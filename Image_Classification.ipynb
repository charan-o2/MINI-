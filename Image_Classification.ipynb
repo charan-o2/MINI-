{
  "nbformat": 4,
  "nbformat_minor": 0,
  "metadata": {
    "colab": {
      "name": "Image Classification.ipynb",
      "provenance": [],
      "collapsed_sections": [],
      "authorship_tag": "ABX9TyMASmY6igpl8K6KVfG0xFXf",
      "include_colab_link": true
    },
    "kernelspec": {
      "name": "python3",
      "display_name": "Python 3"
    },
    "language_info": {
      "name": "python"
    }
  },
  "cells": [
    {
      "cell_type": "markdown",
      "metadata": {
        "id": "view-in-github",
        "colab_type": "text"
      },
      "source": [
        "<a href=\"https://colab.research.google.com/github/charan-o2/MINI-/blob/main/Image_Classification.ipynb\" target=\"_parent\"><img src=\"https://colab.research.google.com/assets/colab-badge.svg\" alt=\"Open In Colab\"/></a>"
      ]
    },
    {
      "cell_type": "code",
      "metadata": {
        "id": "ymi7jsNHW1Qz"
      },
      "source": [
        "#Gathering Data from Bing"
      ],
      "execution_count": 4,
      "outputs": []
    },
    {
      "cell_type": "code",
      "metadata": {
        "id": "NfVQXzNCUhsA",
        "colab": {
          "base_uri": "https://localhost:8080/"
        },
        "outputId": "5bdc1f3f-881b-40b5-c4db-75e7c0879943"
      },
      "source": [
        "!pip install bing-image-downloader"
      ],
      "execution_count": 3,
      "outputs": [
        {
          "output_type": "stream",
          "text": [
            "Collecting bing-image-downloader\n",
            "  Downloading https://files.pythonhosted.org/packages/0d/bf/537a61030b84ae4cd5022d5c7b014fd9bc3ce7c02358919153a6658a61d3/bing_image_downloader-1.0.4-py3-none-any.whl\n",
            "Installing collected packages: bing-image-downloader\n",
            "Successfully installed bing-image-downloader-1.0.4\n"
          ],
          "name": "stdout"
        }
      ]
    },
    {
      "cell_type": "code",
      "metadata": {
        "id": "Ciy4Jo-xn07y"
      },
      "source": [
        " !mkdir images"
      ],
      "execution_count": 4,
      "outputs": []
    },
    {
      "cell_type": "code",
      "metadata": {
        "id": "hhOS1v5pXDd0"
      },
      "source": [
        "#Downloading Images"
      ],
      "execution_count": 7,
      "outputs": []
    },
    {
      "cell_type": "code",
      "metadata": {
        "colab": {
          "base_uri": "https://localhost:8080/"
        },
        "id": "Fyq6nCjSpgJE",
        "outputId": "af62d6a3-545b-477f-c6d2-ae66d5239eb8"
      },
      "source": [
        "from bing_image_downloader import downloader\n",
        "downloader.download(\"medicinal trees\",limit=30,output_dir='images',\n",
        "                    adult_filter_off=True)"
      ],
      "execution_count": 5,
      "outputs": [
        {
          "output_type": "stream",
          "text": [
            "\n",
            "\n",
            "[!!]Indexing page: 1\n",
            "\n",
            "[%] Indexed 11 Images on Page 1.\n",
            "\n",
            "===============================================\n",
            "\n",
            "[%] Downloading Image #1 from http://3.bp.blogspot.com/-P3vN4l1b_v4/T92Om4hwBVI/AAAAAAAAA-4/IEMLBBO0fhc/s1600/neem+tree+2.jpg\n",
            "[%] File Downloaded !\n",
            "\n",
            "[%] Downloading Image #2 from http://www.marianland.com/orlandi/saints/FS9098d.jpg\n",
            "[%] File Downloaded !\n",
            "\n",
            "[%] Downloading Image #3 from https://www.nationalgeographic.com/content/dam/environment/2018/10/socotra/01_socotra_nationalgeographic_2708459.ngsversion.1542130206899.adapt.1900.1.jpg\n",
            "[%] File Downloaded !\n",
            "\n",
            "[%] Downloading Image #4 from https://sun-surfer.com/photos/2013/05/Peradeniya-Botanical-Garden-in-Sri-Lanka.jpg\n",
            "[%] File Downloaded !\n",
            "\n",
            "[%] Downloading Image #5 from https://upload.wikimedia.org/wikipedia/commons/8/8e/Terminalia_catappa_3.jpg\n",
            "[%] File Downloaded !\n",
            "\n",
            "[%] Downloading Image #6 from https://www.nps.gov/glac/learn/nature/images/fungi_1.jpg\n",
            "[%] File Downloaded !\n",
            "\n",
            "[%] Downloading Image #7 from https://www.digsdigs.com/photos/2016/12/36-small-tomato-cage-Christmas-tree-with-red-and-white-poinsettia-flowers.jpg\n",
            "[%] File Downloaded !\n",
            "\n",
            "[%] Downloading Image #8 from https://www.goaholidayhomes.com/goa-information-images/harvalem-waterfall-121-3.jpg\n",
            "[%] File Downloaded !\n",
            "\n",
            "[%] Downloading Image #9 from https://worldoffloweringplants.com/wp-content/uploads/2017/05/Epiphyte-Bromeliad-plant.jpg\n",
            "[%] File Downloaded !\n",
            "\n",
            "[%] Downloading Image #10 from https://herbs.indianmedicinalplants.info/images/IMP/Acacia farnesiana-2.jpg\n",
            "[!] Issue getting: https://herbs.indianmedicinalplants.info/images/IMP/Acacia farnesiana-2.jpg\n",
            "[!] Error:: URL can't contain control characters. '/images/IMP/Acacia farnesiana-2.jpg' (found at least ' ')\n",
            "[%] Downloading Image #10 from http://www.infonet-biovision.org/sites/default/files/998.400x400_5.jpeg\n",
            "[%] File Downloaded !\n",
            "\n",
            "\n",
            "\n",
            "[!!]Indexing page: 2\n",
            "\n",
            "[%] Indexed 11 Images on Page 2.\n",
            "\n",
            "===============================================\n",
            "\n",
            "[%] Downloading Image #11 from http://3.bp.blogspot.com/-P3vN4l1b_v4/T92Om4hwBVI/AAAAAAAAA-4/IEMLBBO0fhc/s1600/neem+tree+2.jpg\n",
            "[%] File Downloaded !\n",
            "\n",
            "[%] Downloading Image #12 from http://www.marianland.com/orlandi/saints/FS9098d.jpg\n",
            "[%] File Downloaded !\n",
            "\n",
            "[%] Downloading Image #13 from https://www.nationalgeographic.com/content/dam/environment/2018/10/socotra/01_socotra_nationalgeographic_2708459.ngsversion.1542130206899.adapt.1900.1.jpg\n",
            "[%] File Downloaded !\n",
            "\n",
            "[%] Downloading Image #14 from https://sun-surfer.com/photos/2013/05/Peradeniya-Botanical-Garden-in-Sri-Lanka.jpg\n",
            "[%] File Downloaded !\n",
            "\n",
            "[%] Downloading Image #15 from https://upload.wikimedia.org/wikipedia/commons/8/8e/Terminalia_catappa_3.jpg\n",
            "[%] File Downloaded !\n",
            "\n",
            "[%] Downloading Image #16 from https://www.nps.gov/glac/learn/nature/images/fungi_1.jpg\n",
            "[%] File Downloaded !\n",
            "\n",
            "[%] Downloading Image #17 from https://www.digsdigs.com/photos/2016/12/36-small-tomato-cage-Christmas-tree-with-red-and-white-poinsettia-flowers.jpg\n",
            "[%] File Downloaded !\n",
            "\n",
            "[%] Downloading Image #18 from https://www.goaholidayhomes.com/goa-information-images/harvalem-waterfall-121-3.jpg\n",
            "[%] File Downloaded !\n",
            "\n",
            "[%] Downloading Image #19 from https://worldoffloweringplants.com/wp-content/uploads/2017/05/Epiphyte-Bromeliad-plant.jpg\n",
            "[%] File Downloaded !\n",
            "\n",
            "[%] Downloading Image #20 from https://herbs.indianmedicinalplants.info/images/IMP/Acacia farnesiana-2.jpg\n",
            "[!] Issue getting: https://herbs.indianmedicinalplants.info/images/IMP/Acacia farnesiana-2.jpg\n",
            "[!] Error:: URL can't contain control characters. '/images/IMP/Acacia farnesiana-2.jpg' (found at least ' ')\n",
            "[%] Downloading Image #20 from http://www.infonet-biovision.org/sites/default/files/998.400x400_5.jpeg\n",
            "[%] File Downloaded !\n",
            "\n",
            "\n",
            "\n",
            "[!!]Indexing page: 3\n",
            "\n",
            "[%] Indexed 10 Images on Page 3.\n",
            "\n",
            "===============================================\n",
            "\n",
            "[%] Downloading Image #21 from https://www.nationalgeographic.com/content/dam/environment/2018/10/socotra/01_socotra_nationalgeographic_2708459.ngsversion.1542130206899.adapt.1900.1.jpg\n",
            "[%] File Downloaded !\n",
            "\n",
            "[%] Downloading Image #22 from https://herbs.indianmedicinalplants.info/images/IMP/Acacia farnesiana-2.jpg\n",
            "[!] Issue getting: https://herbs.indianmedicinalplants.info/images/IMP/Acacia farnesiana-2.jpg\n",
            "[!] Error:: URL can't contain control characters. '/images/IMP/Acacia farnesiana-2.jpg' (found at least ' ')\n",
            "[%] Downloading Image #22 from http://www.infonet-biovision.org/sites/default/files/998.400x400_5.jpeg\n",
            "[%] File Downloaded !\n",
            "\n",
            "[%] Downloading Image #23 from https://upload.wikimedia.org/wikipedia/commons/8/8e/Terminalia_catappa_3.jpg\n",
            "[%] File Downloaded !\n",
            "\n",
            "[%] Downloading Image #24 from https://www.nps.gov/glac/learn/nature/images/fungi_1.jpg\n",
            "[%] File Downloaded !\n",
            "\n",
            "[%] Downloading Image #25 from https://www.digsdigs.com/photos/2016/12/36-small-tomato-cage-Christmas-tree-with-red-and-white-poinsettia-flowers.jpg\n",
            "[%] File Downloaded !\n",
            "\n",
            "[%] Downloading Image #26 from https://worldoffloweringplants.com/wp-content/uploads/2017/05/Epiphyte-Bromeliad-plant.jpg\n",
            "[%] File Downloaded !\n",
            "\n",
            "[%] Downloading Image #27 from http://www.marianland.com/orlandi/saints/FS9098d.jpg\n",
            "[%] File Downloaded !\n",
            "\n",
            "[%] Downloading Image #28 from https://sun-surfer.com/photos/2013/05/Peradeniya-Botanical-Garden-in-Sri-Lanka.jpg\n",
            "[%] File Downloaded !\n",
            "\n",
            "[%] Downloading Image #29 from https://www.goaholidayhomes.com/goa-information-images/harvalem-waterfall-121-3.jpg\n",
            "[%] File Downloaded !\n",
            "\n",
            "\n",
            "\n",
            "[!!]Indexing page: 4\n",
            "\n",
            "[%] Indexed 9 Images on Page 4.\n",
            "\n",
            "===============================================\n",
            "\n",
            "[%] Downloading Image #30 from https://upload.wikimedia.org/wikipedia/commons/8/8e/Terminalia_catappa_3.jpg\n",
            "[%] File Downloaded !\n",
            "\n",
            "\n",
            "\n",
            "[%] Done. Downloaded 30 images.\n",
            "\n",
            "===============================================\n",
            "\n"
          ],
          "name": "stdout"
        }
      ]
    },
    {
      "cell_type": "code",
      "metadata": {
        "colab": {
          "base_uri": "https://localhost:8080/"
        },
        "id": "wutsi0Hsqmw_",
        "outputId": "fc21c510-ea69-478b-b21d-bc5fa05e7f78"
      },
      "source": [
        "downloader.download(\"tesla cars\",limit=30,output_dir='images',\n",
        "                    adult_filter_off=True)"
      ],
      "execution_count": 6,
      "outputs": [
        {
          "output_type": "stream",
          "text": [
            "\n",
            "\n",
            "[!!]Indexing page: 1\n",
            "\n",
            "[%] Indexed 12 Images on Page 1.\n",
            "\n",
            "===============================================\n",
            "\n",
            "[%] Downloading Image #1 from https://www.hdwallpapers.in/download/tesla_model_s_p90d-1920x1200.jpg\n",
            "[%] File Downloaded !\n",
            "\n",
            "[%] Downloading Image #2 from https://www.teslarati.com/wp-content/uploads/2019/03/tesla-semi-interior-a.jpg\n",
            "[%] File Downloaded !\n",
            "\n",
            "[%] Downloading Image #3 from https://wallpapershome.com/images/wallpapers/tesla-roadster-1440x2560-electric-car-4k-16599.jpg\n",
            "[%] File Downloaded !\n",
            "\n",
            "[%] Downloading Image #4 from https://www.hdcarwallpapers.com/download/chevrolet_camaro_2019-2560x1440.jpg\n",
            "[%] File Downloaded !\n",
            "\n",
            "[%] Downloading Image #5 from https://wallpapershome.com/images/wallpapers/renault-dezir-2560x1440-electric-cars-renault-concept-supercar-sports-2410.jpg\n",
            "[%] File Downloaded !\n",
            "\n",
            "[%] Downloading Image #6 from https://wallpapershome.com/images/wallpapers/ford-mustang-mach-e-gt-performance-7680x4320-suv-2021-cars-electric-22356.jpeg\n",
            "[%] File Downloaded !\n",
            "\n",
            "[%] Downloading Image #7 from https://www.carpixel.net/w/fdbe81d5acfb063f300fb48a7613961e/maybach-62-wallpaper-hd-3333.jpg\n",
            "[%] File Downloaded !\n",
            "\n",
            "[%] Downloading Image #8 from https://www.hdwallpapers.in/download/2021_lamborghini_urus_graphite_capsule_4k_5k_hd_cars-1920x1080.jpg\n",
            "[%] File Downloaded !\n",
            "\n",
            "[%] Downloading Image #9 from https://www.carpixel.net/w/ff86dcc078392e7926d03b5489657bb3/range-rover-autobiography-black-car-wallpaper-37077.jpg\n",
            "[%] File Downloaded !\n",
            "\n",
            "[%] Downloading Image #10 from https://www.carpixel.net/w/7408f02eb5da481416fdcc727930c2c7/chrysler-300s-alloy-edition-car-wallpaper-38757.jpg\n",
            "[%] File Downloaded !\n",
            "\n",
            "[%] Downloading Image #11 from https://www.carpixel.net/w/9d6eee5c65847a03ef4877b6a22a27bf/ford-ranger-fx2-supercrew-car-wallpaper-94657.jpg\n",
            "[%] File Downloaded !\n",
            "\n",
            "[%] Downloading Image #12 from https://www.hdcarwallpapers.com/download/2020_bmw_745e_m_sport_4k-1600x900.jpg\n",
            "[%] File Downloaded !\n",
            "\n",
            "\n",
            "\n",
            "[!!]Indexing page: 2\n",
            "\n",
            "[%] Indexed 12 Images on Page 2.\n",
            "\n",
            "===============================================\n",
            "\n",
            "[%] Downloading Image #13 from https://www.hdwallpapers.in/download/tesla_model_s_p90d-1920x1200.jpg\n",
            "[%] File Downloaded !\n",
            "\n",
            "[%] Downloading Image #14 from https://www.teslarati.com/wp-content/uploads/2019/03/tesla-semi-interior-a.jpg\n",
            "[%] File Downloaded !\n",
            "\n",
            "[%] Downloading Image #15 from https://wallpapershome.com/images/wallpapers/tesla-roadster-1440x2560-electric-car-4k-16599.jpg\n",
            "[%] File Downloaded !\n",
            "\n",
            "[%] Downloading Image #16 from https://www.hdcarwallpapers.com/download/chevrolet_camaro_2019-2560x1440.jpg\n",
            "[%] File Downloaded !\n",
            "\n",
            "[%] Downloading Image #17 from https://wallpapershome.com/images/wallpapers/renault-dezir-2560x1440-electric-cars-renault-concept-supercar-sports-2410.jpg\n",
            "[%] File Downloaded !\n",
            "\n",
            "[%] Downloading Image #18 from https://wallpapershome.com/images/wallpapers/ford-mustang-mach-e-gt-performance-7680x4320-suv-2021-cars-electric-22356.jpeg\n",
            "[%] File Downloaded !\n",
            "\n",
            "[%] Downloading Image #19 from https://www.carpixel.net/w/fdbe81d5acfb063f300fb48a7613961e/maybach-62-wallpaper-hd-3333.jpg\n",
            "[%] File Downloaded !\n",
            "\n",
            "[%] Downloading Image #20 from https://www.hdwallpapers.in/download/2021_lamborghini_urus_graphite_capsule_4k_5k_hd_cars-1920x1080.jpg\n",
            "[%] File Downloaded !\n",
            "\n",
            "[%] Downloading Image #21 from https://www.carpixel.net/w/ff86dcc078392e7926d03b5489657bb3/range-rover-autobiography-black-car-wallpaper-37077.jpg\n",
            "[%] File Downloaded !\n",
            "\n",
            "[%] Downloading Image #22 from https://www.carpixel.net/w/7408f02eb5da481416fdcc727930c2c7/chrysler-300s-alloy-edition-car-wallpaper-38757.jpg\n",
            "[%] File Downloaded !\n",
            "\n",
            "[%] Downloading Image #23 from https://www.carpixel.net/w/9d6eee5c65847a03ef4877b6a22a27bf/ford-ranger-fx2-supercrew-car-wallpaper-94657.jpg\n",
            "[%] File Downloaded !\n",
            "\n",
            "[%] Downloading Image #24 from https://www.hdcarwallpapers.com/download/2020_bmw_745e_m_sport_4k-1600x900.jpg\n",
            "[%] File Downloaded !\n",
            "\n",
            "\n",
            "\n",
            "[!!]Indexing page: 3\n",
            "\n",
            "[%] Indexed 11 Images on Page 3.\n",
            "\n",
            "===============================================\n",
            "\n",
            "[%] Downloading Image #25 from https://www.teslarati.com/wp-content/uploads/2019/03/tesla-semi-interior-a.jpg\n",
            "[%] File Downloaded !\n",
            "\n",
            "[%] Downloading Image #26 from https://wallpapershome.com/images/wallpapers/tesla-roadster-1440x2560-electric-car-4k-16599.jpg\n",
            "[%] File Downloaded !\n",
            "\n",
            "[%] Downloading Image #27 from https://www.hdcarwallpapers.com/download/chevrolet_camaro_2019-2560x1440.jpg\n",
            "[%] File Downloaded !\n",
            "\n",
            "[%] Downloading Image #28 from https://wallpapershome.com/images/wallpapers/renault-dezir-2560x1440-electric-cars-renault-concept-supercar-sports-2410.jpg\n",
            "[%] File Downloaded !\n",
            "\n",
            "[%] Downloading Image #29 from https://wallpapershome.com/images/wallpapers/ford-mustang-mach-e-gt-performance-7680x4320-suv-2021-cars-electric-22356.jpeg\n",
            "[%] File Downloaded !\n",
            "\n",
            "[%] Downloading Image #30 from https://www.carpixel.net/w/fdbe81d5acfb063f300fb48a7613961e/maybach-62-wallpaper-hd-3333.jpg\n",
            "[%] File Downloaded !\n",
            "\n",
            "\n",
            "\n",
            "[%] Done. Downloaded 30 images.\n",
            "\n",
            "===============================================\n",
            "\n"
          ],
          "name": "stdout"
        }
      ]
    },
    {
      "cell_type": "code",
      "metadata": {
        "colab": {
          "base_uri": "https://localhost:8080/"
        },
        "id": "uMZ1PudNwBzG",
        "outputId": "3683da3c-0da1-4d90-a02e-9026251d984e"
      },
      "source": [
        "downloader.download(\"tasty berries\",limit=30,output_dir='images',\n",
        "                    adult_filter_off=True)"
      ],
      "execution_count": 7,
      "outputs": [
        {
          "output_type": "stream",
          "text": [
            "\n",
            "\n",
            "[!!]Indexing page: 1\n",
            "\n",
            "[%] Indexed 12 Images on Page 1.\n",
            "\n",
            "===============================================\n",
            "\n",
            "[%] Downloading Image #1 from https://pixnio.com/free-images/2017/11/14/2017-11-14-08-39-59.jpg\n",
            "[%] File Downloaded !\n",
            "\n",
            "[%] Downloading Image #2 from https://www.guyinthekitchen.com/wp-content/uploads/ngg_featured/Protein-Packed-Smoothie-Recipes-for-Men-Picture-1.jpg\n",
            "[%] File Downloaded !\n",
            "\n",
            "[%] Downloading Image #3 from https://i0.wp.com/mytastycurry.com/wp-content/uploads/2017/08/Detox-raspberry-and-goji-berries-tea-1-1.jpg?fit=600%2C896&amp;ssl=1\n",
            "[%] File Downloaded !\n",
            "\n",
            "[%] Downloading Image #4 from https://hdlatestwallpaper.com/wp-content/uploads/2018/06/Watermelon-HD-wallpaper-1.jpg\n",
            "[%] File Downloaded !\n",
            "\n",
            "[%] Downloading Image #5 from https://keyassets.timeincuk.net/inspirewp/live/wp-content/uploads/sites/16/2012/12/AG12281.jpg\n",
            "[%] File Downloaded !\n",
            "\n",
            "[%] Downloading Image #6 from http://2.bp.blogspot.com/-omr2E6lpziQ/UhUNgTIcLTI/AAAAAAAAbi8/mdjchVKWqXA/s580/20130821_142431.jpg\n",
            "[%] File Downloaded !\n",
            "\n",
            "[%] Downloading Image #7 from https://thumbs.dreamstime.com/z/different-genetically-modified-food-01274.jpg\n",
            "[%] File Downloaded !\n",
            "\n",
            "[%] Downloading Image #8 from http://www.travelfootprints.ca/wp-content/uploads/2010/11/afternoon-tea-empress-hotel-7.jpg?x13319\n",
            "[%] File Downloaded !\n",
            "\n",
            "[%] Downloading Image #9 from https://file.weddingchicks.com/460641_desertplatter.jpg\n",
            "[%] File Downloaded !\n",
            "\n",
            "[%] Downloading Image #10 from https://www.joyofkosher.com/.image/t_share/MTMxNzY3NjgwODE3NDkxOTM4/strawberry-cream-cheese-ice-cream.jpg\n",
            "[%] File Downloaded !\n",
            "\n",
            "[%] Downloading Image #11 from https://www.topinspired.com/wp-content/uploads/2015/11/topsarc.jpg\n",
            "[%] File Downloaded !\n",
            "\n",
            "[%] Downloading Image #12 from https://cdn.pixabay.com/photo/2010/12/01/chips-643_960_720.jpg\n",
            "[%] File Downloaded !\n",
            "\n",
            "\n",
            "\n",
            "[!!]Indexing page: 2\n",
            "\n",
            "[%] Indexed 12 Images on Page 2.\n",
            "\n",
            "===============================================\n",
            "\n",
            "[%] Downloading Image #13 from https://pixnio.com/free-images/2017/11/14/2017-11-14-08-39-59.jpg\n",
            "[%] File Downloaded !\n",
            "\n",
            "[%] Downloading Image #14 from https://www.guyinthekitchen.com/wp-content/uploads/ngg_featured/Protein-Packed-Smoothie-Recipes-for-Men-Picture-1.jpg\n",
            "[%] File Downloaded !\n",
            "\n",
            "[%] Downloading Image #15 from https://i0.wp.com/mytastycurry.com/wp-content/uploads/2017/08/Detox-raspberry-and-goji-berries-tea-1-1.jpg?fit=600%2C896&amp;ssl=1\n",
            "[%] File Downloaded !\n",
            "\n",
            "[%] Downloading Image #16 from https://hdlatestwallpaper.com/wp-content/uploads/2018/06/Watermelon-HD-wallpaper-1.jpg\n",
            "[%] File Downloaded !\n",
            "\n",
            "[%] Downloading Image #17 from https://keyassets.timeincuk.net/inspirewp/live/wp-content/uploads/sites/16/2012/12/AG12281.jpg\n",
            "[%] File Downloaded !\n",
            "\n",
            "[%] Downloading Image #18 from http://2.bp.blogspot.com/-omr2E6lpziQ/UhUNgTIcLTI/AAAAAAAAbi8/mdjchVKWqXA/s580/20130821_142431.jpg\n",
            "[%] File Downloaded !\n",
            "\n",
            "[%] Downloading Image #19 from https://thumbs.dreamstime.com/z/different-genetically-modified-food-01274.jpg\n",
            "[%] File Downloaded !\n",
            "\n",
            "[%] Downloading Image #20 from http://www.travelfootprints.ca/wp-content/uploads/2010/11/afternoon-tea-empress-hotel-7.jpg?x13319\n",
            "[%] File Downloaded !\n",
            "\n",
            "[%] Downloading Image #21 from https://file.weddingchicks.com/460641_desertplatter.jpg\n",
            "[%] File Downloaded !\n",
            "\n",
            "[%] Downloading Image #22 from https://www.joyofkosher.com/.image/t_share/MTMxNzY3NjgwODE3NDkxOTM4/strawberry-cream-cheese-ice-cream.jpg\n",
            "[%] File Downloaded !\n",
            "\n",
            "[%] Downloading Image #23 from https://www.topinspired.com/wp-content/uploads/2015/11/topsarc.jpg\n",
            "[%] File Downloaded !\n",
            "\n",
            "[%] Downloading Image #24 from https://cdn.pixabay.com/photo/2010/12/01/chips-643_960_720.jpg\n",
            "[%] File Downloaded !\n",
            "\n",
            "\n",
            "\n",
            "[!!]Indexing page: 3\n",
            "\n",
            "[%] Indexed 11 Images on Page 3.\n",
            "\n",
            "===============================================\n",
            "\n",
            "[%] Downloading Image #25 from https://i0.wp.com/mytastycurry.com/wp-content/uploads/2017/08/Detox-raspberry-and-goji-berries-tea-1-1.jpg?fit=600%2C896&amp;ssl=1\n",
            "[%] File Downloaded !\n",
            "\n",
            "[%] Downloading Image #26 from https://hdlatestwallpaper.com/wp-content/uploads/2018/06/Watermelon-HD-wallpaper-1.jpg\n",
            "[%] File Downloaded !\n",
            "\n",
            "[%] Downloading Image #27 from http://www.travelfootprints.ca/wp-content/uploads/2010/11/afternoon-tea-empress-hotel-7.jpg?x13319\n",
            "[%] File Downloaded !\n",
            "\n",
            "[%] Downloading Image #28 from http://2.bp.blogspot.com/-omr2E6lpziQ/UhUNgTIcLTI/AAAAAAAAbi8/mdjchVKWqXA/s580/20130821_142431.jpg\n",
            "[%] File Downloaded !\n",
            "\n",
            "[%] Downloading Image #29 from https://thumbs.dreamstime.com/z/different-genetically-modified-food-01274.jpg\n",
            "[%] File Downloaded !\n",
            "\n",
            "[%] Downloading Image #30 from https://file.weddingchicks.com/460641_desertplatter.jpg\n",
            "[%] File Downloaded !\n",
            "\n",
            "\n",
            "\n",
            "[%] Done. Downloaded 30 images.\n",
            "\n",
            "===============================================\n",
            "\n"
          ],
          "name": "stdout"
        }
      ]
    },
    {
      "cell_type": "code",
      "metadata": {
        "colab": {
          "base_uri": "https://localhost:8080/"
        },
        "id": "kUiHV2aL1lLQ",
        "outputId": "bcbf6823-45bd-4e6a-d3bf-503b10a39729"
      },
      "source": [
        "import os\n",
        "import matplotlib.pyplot as plt\n",
        "import numpy as np\n",
        "from skimage.io import imread\n",
        "from skimage.transform import resize\n",
        "\n",
        "target = []\n",
        "images = []\n",
        "flat_data = []\n",
        "\n",
        "DATADIR = '/content/images'\n",
        "CATEGORIES = ['medicinal trees','tesla cars','tasty berries']\n",
        "\n",
        "for category in CATEGORIES:                      #PRINTING CATEGORIES\n",
        "  print(category)\n",
        "  class_num = CATEGORIES.index(category)         #CONVERTING INTO VALUES\n",
        "  print(class_num)\n",
        "  path = os.path.join(DATADIR,category)          #PRINTING PATH OF CATEGORIES\n",
        "  print(path)\n",
        "  for img in os.listdir(path):\n",
        "    img_array = imread(os.path.join(path,img))\n",
        "    #print(img_array.shape)\n",
        "    #plt.imshow(img_array)\n",
        "    img_resized = resize(img_array,(150,150,3))  #RESIZING DATA\n",
        "    flat_data.append(img_resized.flatten())      #FLATTEN DATA\n",
        "    images.append(img_resized)\n",
        "    target.append(class_num)\n",
        "\n",
        "flat_data = np.array(flat_data)\n",
        "target = np.array(target)\n",
        "images = np.array(images)   \n",
        "    "
      ],
      "execution_count": 8,
      "outputs": [
        {
          "output_type": "stream",
          "text": [
            "medicinal trees\n",
            "0\n",
            "/content/images/medicinal trees\n",
            "tesla cars\n",
            "1\n",
            "/content/images/tesla cars\n",
            "tasty berries\n",
            "2\n",
            "/content/images/tasty berries\n"
          ],
          "name": "stdout"
        }
      ]
    },
    {
      "cell_type": "code",
      "metadata": {
        "colab": {
          "base_uri": "https://localhost:8080/"
        },
        "id": "cQZnB1j0_m9Q",
        "outputId": "1a5dae2c-220d-4d89-965e-7f5e14e784a4"
      },
      "source": [
        "flat_data[0]"
      ],
      "execution_count": 9,
      "outputs": [
        {
          "output_type": "execute_result",
          "data": {
            "text/plain": [
              "array([0.64313725, 0.77254902, 0.89411765, ..., 0.64881046, 0.57839608,\n",
              "       0.4882    ])"
            ]
          },
          "metadata": {
            "tags": []
          },
          "execution_count": 9
        }
      ]
    },
    {
      "cell_type": "code",
      "metadata": {
        "colab": {
          "base_uri": "https://localhost:8080/"
        },
        "id": "-pX0N_V5EgbW",
        "outputId": "28116e08-3833-471f-be4d-4dcd5fdab0c8"
      },
      "source": [
        "target"
      ],
      "execution_count": 10,
      "outputs": [
        {
          "output_type": "execute_result",
          "data": {
            "text/plain": [
              "array([0, 0, 0, 0, 0, 0, 0, 0, 0, 0, 0, 0, 0, 0, 0, 0, 0, 0, 0, 0, 0, 0,\n",
              "       0, 0, 0, 0, 0, 0, 0, 0, 1, 1, 1, 1, 1, 1, 1, 1, 1, 1, 1, 1, 1, 1,\n",
              "       1, 1, 1, 1, 1, 1, 1, 1, 1, 1, 1, 1, 1, 1, 1, 1, 2, 2, 2, 2, 2, 2,\n",
              "       2, 2, 2, 2, 2, 2, 2, 2, 2, 2, 2, 2, 2, 2, 2, 2, 2, 2, 2, 2, 2, 2,\n",
              "       2, 2])"
            ]
          },
          "metadata": {
            "tags": []
          },
          "execution_count": 10
        }
      ]
    },
    {
      "cell_type": "code",
      "metadata": {
        "colab": {
          "base_uri": "https://localhost:8080/",
          "height": 282
        },
        "id": "cqJb20iwFfNe",
        "outputId": "15176b15-7d43-4e71-824f-72901a504818"
      },
      "source": [
        "unique,count = np.unique(target,return_counts=True)    #PLOTTING BAR\n",
        "plt.bar(CATEGORIES,count)"
      ],
      "execution_count": 11,
      "outputs": [
        {
          "output_type": "execute_result",
          "data": {
            "text/plain": [
              "<BarContainer object of 3 artists>"
            ]
          },
          "metadata": {
            "tags": []
          },
          "execution_count": 11
        },
        {
          "output_type": "display_data",
          "data": {
            "image/png": "[encoded data removed]",
            "text/plain": [
              "<Figure size 432x288 with 1 Axes>"
            ]
          },
          "metadata": {
            "tags": [],
            "needs_background": "light"
          }
        }
      ]
    },
    {
      "cell_type": "code",
      "metadata": {
        "id": "y3KZDBipYCWC"
      },
      "source": [
        "#SPLITTING DATA INTO TRAIN DATA AND TEST DATA"
      ],
      "execution_count": 12,
      "outputs": []
    },
    {
      "cell_type": "code",
      "metadata": {
        "id": "bdfEjKdIFnG7"
      },
      "source": [
        "from sklearn.model_selection import train_test_split\n",
        "x_train,x_test,y_train,y_test = train_test_split(flat_data,target,\n",
        "                                            test_size=0.3,random_state=109)"
      ],
      "execution_count": 13,
      "outputs": []
    },
    {
      "cell_type": "code",
      "metadata": {
        "id": "zvbPIajiYOLW"
      },
      "source": [
        "#IMPORTING SVM"
      ],
      "execution_count": 14,
      "outputs": []
    },
    {
      "cell_type": "code",
      "metadata": {
        "colab": {
          "base_uri": "https://localhost:8080/"
        },
        "id": "HuUwYKQjG1fY",
        "outputId": "f3350626-aec1-4b29-a2f4-2c1eb75d914b"
      },
      "source": [
        "from sklearn.model_selection import GridSearchCV\n",
        "from sklearn import svm\n",
        "param_grid = [\n",
        "              {'C':[1,10,100,1000],'kernel':['linear']},\n",
        "              {'C':[1,10,100,1000],'gamma':[0.001,0.0001],'kernel':['rbf']},\n",
        "]\n",
        "\n",
        "svc = svm.SVC(probability=True)\n",
        "clf = GridSearchCV(svc,param_grid)\n",
        "clf.fit(x_train,y_train)"
      ],
      "execution_count": 15,
      "outputs": [
        {
          "output_type": "execute_result",
          "data": {
            "text/plain": [
              "GridSearchCV(cv=None, error_score=nan,\n",
              "             estimator=SVC(C=1.0, break_ties=False, cache_size=200,\n",
              "                           class_weight=None, coef0=0.0,\n",
              "                           decision_function_shape='ovr', degree=3,\n",
              "                           gamma='scale', kernel='rbf', max_iter=-1,\n",
              "                           probability=True, random_state=None, shrinking=True,\n",
              "                           tol=0.001, verbose=False),\n",
              "             iid='deprecated', n_jobs=None,\n",
              "             param_grid=[{'C': [1, 10, 100, 1000], 'kernel': ['linear']},\n",
              "                         {'C': [1, 10, 100, 1000], 'gamma': [0.001, 0.0001],\n",
              "                          'kernel': ['rbf']}],\n",
              "             pre_dispatch='2*n_jobs', refit=True, return_train_score=False,\n",
              "             scoring=None, verbose=0)"
            ]
          },
          "metadata": {
            "tags": []
          },
          "execution_count": 15
        }
      ]
    },
    {
      "cell_type": "code",
      "metadata": {
        "colab": {
          "base_uri": "https://localhost:8080/"
        },
        "id": "ZiElpoL0JOny",
        "outputId": "38bad1d6-b1f5-4cd6-8a37-7255ad8061dc"
      },
      "source": [
        "y_pred = clf.predict(x_test)\n",
        "y_pred"
      ],
      "execution_count": 16,
      "outputs": [
        {
          "output_type": "execute_result",
          "data": {
            "text/plain": [
              "array([1, 0, 1, 2, 2, 1, 0, 1, 1, 0, 1, 0, 1, 2, 2, 1, 2, 1, 0, 1, 2, 2,\n",
              "       2, 0, 0, 0, 1])"
            ]
          },
          "metadata": {
            "tags": []
          },
          "execution_count": 16
        }
      ]
    },
    {
      "cell_type": "code",
      "metadata": {
        "colab": {
          "base_uri": "https://localhost:8080/"
        },
        "id": "o1juYudST2dY",
        "outputId": "fb67789c-b143-4bec-a84f-896aae56b523"
      },
      "source": [
        "y_test"
      ],
      "execution_count": 17,
      "outputs": [
        {
          "output_type": "execute_result",
          "data": {
            "text/plain": [
              "array([1, 0, 1, 2, 2, 1, 0, 1, 1, 0, 1, 0, 1, 2, 2, 1, 2, 1, 0, 1, 2, 2,\n",
              "       2, 0, 0, 0, 1])"
            ]
          },
          "metadata": {
            "tags": []
          },
          "execution_count": 17
        }
      ]
    },
    {
      "cell_type": "code",
      "metadata": {
        "id": "idtTtDheT4xN"
      },
      "source": [
        "from sklearn.metrics import accuracy_score,confusion_matrix"
      ],
      "execution_count": 18,
      "outputs": []
    },
    {
      "cell_type": "code",
      "metadata": {
        "colab": {
          "base_uri": "https://localhost:8080/"
        },
        "id": "VIX3_iQYUNun",
        "outputId": "d6ce7254-9e84-41c3-b79b-8a88b117a87e"
      },
      "source": [
        "accuracy_score(y_pred,y_test)"
      ],
      "execution_count": 20,
      "outputs": [
        {
          "output_type": "execute_result",
          "data": {
            "text/plain": [
              "1.0"
            ]
          },
          "metadata": {
            "tags": []
          },
          "execution_count": 20
        }
      ]
    },
    {
      "cell_type": "code",
      "metadata": {
        "colab": {
          "base_uri": "https://localhost:8080/"
        },
        "id": "jSXrqC9xUVEG",
        "outputId": "b6b84407-fa4d-41df-d95e-d4c8991efd0e"
      },
      "source": [
        "confusion_matrix(y_pred,y_test)"
      ],
      "execution_count": 21,
      "outputs": [
        {
          "output_type": "execute_result",
          "data": {
            "text/plain": [
              "array([[ 8,  0,  0],\n",
              "       [ 0, 11,  0],\n",
              "       [ 0,  0,  8]])"
            ]
          },
          "metadata": {
            "tags": []
          },
          "execution_count": 21
        }
      ]
    },
    {
      "cell_type": "code",
      "metadata": {
        "id": "6lOe0nxgUfPB"
      },
      "source": [
        "import pickle\n",
        "pickle.dump(clf,open('img_model.p','wb'))"
      ],
      "execution_count": 22,
      "outputs": []
    },
    {
      "cell_type": "code",
      "metadata": {
        "id": "Yu2CbxJ5VLG2"
      },
      "source": [
        "model = pickle.load(open('img_model.p','rb'))"
      ],
      "execution_count": 23,
      "outputs": []
    },
    {
      "cell_type": "code",
      "metadata": {
        "id": "8dkzooNEYf5W"
      },
      "source": [
        "#TESTING A NEW IMAGE"
      ],
      "execution_count": 24,
      "outputs": []
    },
    {
      "cell_type": "code",
      "metadata": {
        "colab": {
          "base_uri": "https://localhost:8080/",
          "height": 319
        },
        "id": "SJU40T_YVmZq",
        "outputId": "5ccf763f-6107-4acb-f87c-9e52d41ac176"
      },
      "source": [
        "flat_data = []\n",
        "url = input('Enter your URL')\n",
        "img = imread(url)\n",
        "img_resized = resize(img,(150,150,3))\n",
        "flat_data.append(img_resized.flatten())\n",
        "flat_data = np.array(flat_data)\n",
        "print(img.shape)\n",
        "plt.imshow(img_resized)\n",
        "y_out = model.predict(flat_data)\n",
        "y_out = CATEGORIES[y_out[0]]\n",
        "print(f' PREDICTED OUTPUT: {y_out}')"
      ],
      "execution_count": 26,
      "outputs": [
        {
          "output_type": "stream",
          "text": [
            "Enter your URLhttps://th.bing.com/th/id/OIP.gbB2LIj1nIcDW18IrgpkFAHaE8?pid=ImgDet&rs=1\n",
            "(316, 474, 3)\n",
            " PREDICTED OUTPUT: tasty berries\n"
          ],
          "name": "stdout"
        },
        {
          "output_type": "display_data",
          "data": {
            "image/png": "[encoded data removed]",
            "text/plain": [
              "<Figure size 432x288 with 1 Axes>"
            ]
          },
          "metadata": {
            "tags": [],
            "needs_background": "light"
          }
        }
      ]
    },
    {
      "cell_type": "code",
      "metadata": {
        "id": "K0r-0POFZXuk"
      },
      "source": [
        ""
      ],
      "execution_count": null,
      "outputs": []
    }
  ]
}